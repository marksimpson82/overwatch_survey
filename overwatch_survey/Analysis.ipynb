{
 "cells": [
  {
   "cell_type": "markdown",
   "metadata": {},
   "source": [
    "# Overwatch Hero Survey (September 2019)"
   ]
  },
  {
   "cell_type": "code",
   "execution_count": 107,
   "metadata": {},
   "outputs": [],
   "source": [
    "import pandas as pd\n",
    "import seaborn as sb\n",
    "import ipywidgets as widgets\n",
    "from ipywidgets import interact, interact_manual\n",
    "from matplotlib import pyplot as plt\n",
    "\n",
    "# load flat csv files -- the survey results are a little clunky\n",
    "hero_names_df = pd.read_csv(\"../data/overwatch_heroes.csv\").loc[:,[\"Hero_name\"]]\n",
    "basic_info_df = pd.read_csv(\"../data/table_basic_info.csv\")\n",
    "hero_ratings_df = pd.read_csv(\"../data/table_hero_ratings.csv\")\n",
    "\n",
    "# join on Response_id such that we can more easily query the result set\n",
    "joined_df = basic_info_df.set_index('Response_id').join(\n",
    "    hero_ratings_df.set_index('Response_id'), \n",
    "    lsuffix='caller', \n",
    "    rsuffix='_other')"
   ]
  },
  {
   "cell_type": "code",
   "execution_count": 108,
   "metadata": {},
   "outputs": [],
   "source": [
    "def hero_vs_fun_factor(df):\n",
    "    return (df.query('Response_type == \"Playing_vs\"')\n",
    "            .groupby('Hero')\n",
    "            .mean())"
   ]
  },
  {
   "cell_type": "markdown",
   "metadata": {},
   "source": [
    "## Q: Which heroes are the least fun to play against?"
   ]
  },
  {
   "cell_type": "code",
   "execution_count": 109,
   "metadata": {},
   "outputs": [
    {
     "name": "stdout",
     "output_type": "stream",
     "text": [
      "               Value\n",
      "Hero                \n",
      "Doomfist    1.588629\n",
      "Symmetra    1.693980\n",
      "Mei         1.841973\n",
      "Orisa       1.859532\n",
      "Bastion     1.928930\n",
      "Sombra      1.987458\n",
      "Sigma       2.229933\n",
      "Moira       2.306856\n",
      "Widowmaker  2.350334\n",
      "Reaper      2.484114\n"
     ]
    }
   ],
   "source": [
    "\n",
    "print(hero_vs_fun_factor(joined_df)\n",
    "      .nsmallest(10, 'Value'))"
   ]
  },
  {
   "cell_type": "markdown",
   "metadata": {},
   "source": [
    "## Q: Which heroes are the most fun to play against?"
   ]
  },
  {
   "cell_type": "code",
   "execution_count": 110,
   "metadata": {},
   "outputs": [
    {
     "name": "stdout",
     "output_type": "stream",
     "text": [
      "                Value\n",
      "Hero                 \n",
      "Reinhardt    4.254181\n",
      "Zenyatta     4.229933\n",
      "Ana          4.127090\n",
      "Soldier: 76  4.031773\n",
      "Winston      3.989967\n",
      "Zarya        3.834448\n",
      "Lucio        3.794314\n",
      "McCree       3.649666\n",
      "D.va         3.628763\n",
      "Ashe         3.525084\n"
     ]
    }
   ],
   "source": [
    "print(hero_vs_fun_factor(joined_df)\n",
    "      .nlargest(10, 'Value'))"
   ]
  },
  {
   "cell_type": "code",
   "execution_count": 111,
   "metadata": {},
   "outputs": [],
   "source": [
    "def hero_balance(df):\n",
    "    return (joined_df.query('Response_type == \"Balance\"')\n",
    "            .groupby('Hero')\n",
    "            .mean()\n",
    "            .sort_values(by='Value'))"
   ]
  },
  {
   "cell_type": "markdown",
   "metadata": {},
   "source": [
    "## Q: Which heroes are perceived to be the most over-tuned?"
   ]
  },
  {
   "cell_type": "code",
   "execution_count": 112,
   "metadata": {},
   "outputs": [
    {
     "name": "stdout",
     "output_type": "stream",
     "text": [
      "               Value\n",
      "Hero                \n",
      "Orisa       4.262542\n",
      "Sigma       4.260033\n",
      "Doomfist    4.124582\n",
      "Symmetra    3.796823\n",
      "Moira       3.786789\n",
      "Reaper      3.688963\n",
      "Widowmaker  3.637960\n",
      "Hanzo       3.623746\n",
      "Mei         3.602843\n",
      "Baptiste    3.565217\n"
     ]
    }
   ],
   "source": [
    "print(hero_balance(joined_df)\n",
    "      .nlargest(10, 'Value'))"
   ]
  },
  {
   "cell_type": "markdown",
   "metadata": {},
   "source": [
    "## Q: Which heroes are perceived to be the weakest?"
   ]
  },
  {
   "cell_type": "code",
   "execution_count": 113,
   "metadata": {},
   "outputs": [
    {
     "name": "stdout",
     "output_type": "stream",
     "text": [
      "                Value\n",
      "Hero                 \n",
      "Soldier: 76  1.881271\n",
      "Winston      2.058528\n",
      "Reinhardt    2.296823\n",
      "Brigitte     2.367057\n",
      "Genji        2.385452\n",
      "D.va         2.549331\n",
      "Tracer       2.629599\n",
      "Zenyatta     2.636288\n",
      "Torbjorn     2.767559\n",
      "Roadhog      2.782609\n"
     ]
    }
   ],
   "source": [
    "print(hero_balance(joined_df)\n",
    "      .nsmallest(10, 'Value'))"
   ]
  },
  {
   "cell_type": "markdown",
   "metadata": {},
   "source": [
    "## Q: Which heroes are perceived to be well-balanced?"
   ]
  },
  {
   "cell_type": "code",
   "execution_count": 114,
   "metadata": {},
   "outputs": [
    {
     "name": "stdout",
     "output_type": "stream",
     "text": [
      "                  Value\n",
      "Hero                   \n",
      "D.va           2.549331\n",
      "Tracer         2.629599\n",
      "Zenyatta       2.636288\n",
      "Torbjorn       2.767559\n",
      "Roadhog        2.782609\n",
      "Mercy          2.837793\n",
      "Ashe           2.894649\n",
      "Pharah         2.913043\n",
      "Junkrat        2.932274\n",
      "Zarya          2.936455\n",
      "Ana            2.981605\n",
      "Wrecking Ball  3.035953\n",
      "Lucio          3.071906\n",
      "McCree         3.120401\n",
      "Bastion        3.168060\n",
      "Sombra         3.219900\n",
      "Baptiste       3.565217\n"
     ]
    }
   ],
   "source": [
    "print(hero_balance(joined_df)\n",
    "      .query('Value > 2.4 & Value < 3.6'))"
   ]
  },
  {
   "cell_type": "markdown",
   "metadata": {},
   "source": [
    "### Let's break down balance by hero & see the range of votes"
   ]
  },
  {
   "cell_type": "code",
   "execution_count": 115,
   "metadata": {},
   "outputs": [
    {
     "data": {
      "application/vnd.jupyter.widget-view+json": {
       "model_id": "eb23d385e5c74d2c9f9a8f7881d8e269",
       "version_major": 2,
       "version_minor": 0
      },
      "text/plain": [
       "interactive(children=(Dropdown(description='column', options=('Ana', 'Ashe', 'Baptiste', 'Bastion', 'Brigitte'…"
      ]
     },
     "metadata": {},
     "output_type": "display_data"
    }
   ],
   "source": [
    "@interact\n",
    "def hero_balance_histograms(column=list(sorted(hero_names_df['Hero_name']))):\n",
    "    hero_playing_vs_df = (joined_df.query('Response_type == \"Playing_vs\"')\n",
    "                          .groupby('Hero'))['Value']\n",
    "\n",
    "    sb.set_style(\"ticks\")\n",
    "    dp = sb.distplot(hero_playing_vs_df.get_group(column), bins=5, kde=False)\n",
    "    dp.set(xlabel=f'Playing vs {column}', ylabel='Counts')\n",
    "    plt.show()        "
   ]
  },
  {
   "cell_type": "markdown",
   "metadata": {},
   "source": [
    "## Q: Which heroes are unpopular relative to their perceived balance level? "
   ]
  },
  {
   "cell_type": "code",
   "execution_count": 116,
   "metadata": {},
   "outputs": [],
   "source": [
    "def hero_fun_vs_balance(df):\n",
    "    # Q: which heroes are unpopular relative to their perceived balance level? \n",
    "    # (i.e. people dislike playing against them even if they're not considered OP)\n",
    "    playing_vs_df = (df.query('Response_type == \"Playing_vs\"')\n",
    "     .groupby('Hero')\n",
    "     .mean())    \n",
    "\n",
    "    balance_df = (df.query('Response_type == \"Balance\"')\n",
    "     .groupby('Hero') \n",
    "     .mean()\n",
    "     .query('Value > 2.25 & Value < 3.75'))\n",
    "\n",
    "    fun_balance_df = (playing_vs_df.join(\n",
    "        balance_df,    \n",
    "        lsuffix='_fun', \n",
    "        rsuffix='_balance')\n",
    "      .query('Value_balance.notnull()')) # filter out the invalid joined data; should do this first though\n",
    "\n",
    "    # this is pretty arbitrary, but gives us a decent idea of 'fun/unfun' vs balance\n",
    "    fun_balance_ratio_df = fun_balance_df[\"Value_fun\"] - fun_balance_df[\"Value_balance\"]\n",
    "    fun_balance_ratio_df.sort_values(inplace=True)\n",
    "    \n",
    "    return fun_balance_ratio_df\n",
    "\n",
    "    # note: this would be better served as a chart (maybe divide by role) that shows \n",
    "    # the perceived fun value overlayed on the balance value."
   ]
  },
  {
   "cell_type": "code",
   "execution_count": 117,
   "metadata": {},
   "outputs": [
    {
     "name": "stdout",
     "output_type": "stream",
     "text": [
      "Hero\n",
      "Mei             -1.760870\n",
      "Widowmaker      -1.287625\n",
      "Bastion         -1.239130\n",
      "Sombra          -1.232441\n",
      "Reaper          -1.204849\n",
      "Hanzo           -0.982441\n",
      "Baptiste        -0.749164\n",
      "Junkrat         -0.294314\n",
      "Wrecking Ball   -0.166388\n",
      "Torbjorn        -0.049331\n",
      "Brigitte         0.255853\n",
      "Pharah           0.278428\n",
      "Roadhog          0.520903\n",
      "McCree           0.529264\n",
      "Mercy            0.619565\n",
      "Ashe             0.630435\n",
      "Lucio            0.722408\n",
      "Tracer           0.765886\n",
      "Zarya            0.897993\n",
      "Genji            1.044314\n",
      "D.va             1.079431\n",
      "Ana              1.145485\n",
      "Zenyatta         1.593645\n",
      "Reinhardt        1.957358\n",
      "dtype: float64\n"
     ]
    }
   ],
   "source": [
    "print(hero_fun_vs_balance(joined_df))"
   ]
  },
  {
   "cell_type": "markdown",
   "metadata": {},
   "source": [
    "## Q: When playing as our main, which heroes are least fun to play against?"
   ]
  },
  {
   "cell_type": "code",
   "execution_count": 118,
   "metadata": {},
   "outputs": [
    {
     "data": {
      "application/vnd.jupyter.widget-view+json": {
       "model_id": "c62e440c090d4c768514fe4fa2724478",
       "version_major": 2,
       "version_minor": 0
      },
      "text/plain": [
       "interactive(children=(Dropdown(description='column', options=('Ana', 'Ashe', 'Baptiste', 'Bastion', 'Brigitte'…"
      ]
     },
     "metadata": {},
     "output_type": "display_data"
    }
   ],
   "source": [
    "@interact\n",
    "def hero_fun_vs_balance_by_main(column=list(sorted(hero_names_df['Hero_name']))):\n",
    "    hero_name = column\n",
    "    hero_playing_as_df = (joined_df.query(\n",
    "        f'Hero_favourite == \"{hero_name}\" & Response_type == \"Playing_vs\"'))\n",
    "    \n",
    "    # for hero x, we have results for playing against all heroes. \n",
    "    # spin through every result in this set and query for the top 3 most-hated\n",
    "    least_fun_group = (hero_playing_as_df\n",
    "                       .query(f'Response_type == \"Playing_vs\"')\n",
    "                       .groupby(\"Hero\"))\n",
    "\n",
    "    least_fun_mean = least_fun_group.mean()\n",
    "    print(least_fun_mean.sort_values(by='Value')\n",
    "          .nsmallest(10, 'Value'))\n",
    "    \n",
    "    # could also plot the histogram for least N fun heroes to play against when maining X\n",
    "    #least_fun_mean.plot.hist()\n",
    "    #dp = sb.distplot(least_fun_mean, bins=5, kde=False)\n",
    "    #dp.set(xlabel=f'Playing as {hero_name}', ylabel='Count')    \n",
    "    #plt.show()\n",
    "    "
   ]
  }
 ],
 "metadata": {
  "kernelspec": {
   "display_name": "Python 3",
   "language": "python",
   "name": "python3"
  },
  "language_info": {
   "codemirror_mode": {
    "name": "ipython",
    "version": 3
   },
   "file_extension": ".py",
   "mimetype": "text/x-python",
   "name": "python",
   "nbconvert_exporter": "python",
   "pygments_lexer": "ipython3",
   "version": "3.7.4"
  }
 },
 "nbformat": 4,
 "nbformat_minor": 2
}
